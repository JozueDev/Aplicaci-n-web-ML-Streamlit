{
    "cells": [
        {
            "cell_type": "markdown",
            "metadata": {},
            "source": [
                "# Explore here"
            ]
        },
        {
            "cell_type": "code",
            "execution_count": 12,
            "metadata": {},
            "outputs": [],
            "source": [
                "import pandas as pd\n",
                "from sklearn.ensemble import RandomForestClassifier\n",
                "from sklearn.model_selection import train_test_split\n",
                "from sklearn.metrics import classification_report, confusion_matrix\n",
                "import joblib"
            ]
        },
        {
            "cell_type": "code",
            "execution_count": 13,
            "metadata": {},
            "outputs": [
                {
                    "data": {
                        "text/html": [
                            "<div>\n",
                            "<style scoped>\n",
                            "    .dataframe tbody tr th:only-of-type {\n",
                            "        vertical-align: middle;\n",
                            "    }\n",
                            "\n",
                            "    .dataframe tbody tr th {\n",
                            "        vertical-align: top;\n",
                            "    }\n",
                            "\n",
                            "    .dataframe thead th {\n",
                            "        text-align: right;\n",
                            "    }\n",
                            "</style>\n",
                            "<table border=\"1\" class=\"dataframe\">\n",
                            "  <thead>\n",
                            "    <tr style=\"text-align: right;\">\n",
                            "      <th></th>\n",
                            "      <th>date</th>\n",
                            "      <th>precipitation</th>\n",
                            "      <th>temp_max</th>\n",
                            "      <th>temp_min</th>\n",
                            "      <th>wind</th>\n",
                            "      <th>weather</th>\n",
                            "    </tr>\n",
                            "  </thead>\n",
                            "  <tbody>\n",
                            "    <tr>\n",
                            "      <th>0</th>\n",
                            "      <td>2012-01-01</td>\n",
                            "      <td>0.0</td>\n",
                            "      <td>12.8</td>\n",
                            "      <td>5.0</td>\n",
                            "      <td>4.7</td>\n",
                            "      <td>drizzle</td>\n",
                            "    </tr>\n",
                            "    <tr>\n",
                            "      <th>1</th>\n",
                            "      <td>2012-01-02</td>\n",
                            "      <td>10.9</td>\n",
                            "      <td>10.6</td>\n",
                            "      <td>2.8</td>\n",
                            "      <td>4.5</td>\n",
                            "      <td>rain</td>\n",
                            "    </tr>\n",
                            "    <tr>\n",
                            "      <th>2</th>\n",
                            "      <td>2012-01-03</td>\n",
                            "      <td>0.8</td>\n",
                            "      <td>11.7</td>\n",
                            "      <td>7.2</td>\n",
                            "      <td>2.3</td>\n",
                            "      <td>rain</td>\n",
                            "    </tr>\n",
                            "    <tr>\n",
                            "      <th>3</th>\n",
                            "      <td>2012-01-04</td>\n",
                            "      <td>20.3</td>\n",
                            "      <td>12.2</td>\n",
                            "      <td>5.6</td>\n",
                            "      <td>4.7</td>\n",
                            "      <td>rain</td>\n",
                            "    </tr>\n",
                            "    <tr>\n",
                            "      <th>4</th>\n",
                            "      <td>2012-01-05</td>\n",
                            "      <td>1.3</td>\n",
                            "      <td>8.9</td>\n",
                            "      <td>2.8</td>\n",
                            "      <td>6.1</td>\n",
                            "      <td>rain</td>\n",
                            "    </tr>\n",
                            "  </tbody>\n",
                            "</table>\n",
                            "</div>"
                        ],
                        "text/plain": [
                            "         date  precipitation  temp_max  temp_min  wind  weather\n",
                            "0  2012-01-01            0.0      12.8       5.0   4.7  drizzle\n",
                            "1  2012-01-02           10.9      10.6       2.8   4.5     rain\n",
                            "2  2012-01-03            0.8      11.7       7.2   2.3     rain\n",
                            "3  2012-01-04           20.3      12.2       5.6   4.7     rain\n",
                            "4  2012-01-05            1.3       8.9       2.8   6.1     rain"
                        ]
                    },
                    "execution_count": 13,
                    "metadata": {},
                    "output_type": "execute_result"
                }
            ],
            "source": [
                "# Cargar el dataset\n",
                "df = pd.read_csv(\"../data/raw/seattle-weather.csv\")\n",
                "df.head()"
            ]
        },
        {
            "cell_type": "code",
            "execution_count": null,
            "metadata": {},
            "outputs": [
                {
                    "name": "stdout",
                    "output_type": "stream",
                    "text": [
                        "✅ Modelo y columnas guardados correctamente.\n"
                    ]
                }
            ],
            "source": [
                "\n",
                "import pandas as pd\n",
                "import pickle\n",
                "from sklearn.ensemble import RandomForestClassifier\n",
                "\n",
                "\n",
                "data = pd.DataFrame({\n",
                "    'precipitacion': [0, 5, 0, 20, 0, 0, 10],\n",
                "    'temp_max': [30, 22, 35, 18, 33, 31, 25],\n",
                "    'temp_min': [20, 15, 22, 10, 19, 21, 16],\n",
                "    'viento': [2, 4, 1, 5, 3, 2, 6],\n",
                "    'estado': ['soleado', 'lluvioso', 'soleado', 'lluvioso', 'soleado', 'soleado', 'lluvioso']\n",
                "})\n",
                "\n",
                "X = data[['precipitacion', 'temp_max', 'temp_min', 'viento']]\n",
                "y = data['estado']\n",
                "\n",
                "modelo = RandomForestClassifier()\n",
                "modelo.fit(X, y)\n",
                "\n",
                "with open('modelo_clima.pkl', 'wb') as f:\n",
                "    pickle.dump(modelo, f)\n",
                "\n",
                "with open('columnas_modelo.pkl', 'wb') as f:\n",
                "    pickle.dump(X.columns.tolist(), f)\n",
                "\n",
                "print(\"✅ Modelo y columnas guardados correctamente.\")\n"
            ]
        }
    ],
    "metadata": {
        "kernelspec": {
            "display_name": "Python 3",
            "language": "python",
            "name": "python3"
        },
        "language_info": {
            "codemirror_mode": {
                "name": "ipython",
                "version": 3
            },
            "file_extension": ".py",
            "mimetype": "text/x-python",
            "name": "python",
            "nbconvert_exporter": "python",
            "pygments_lexer": "ipython3",
            "version": "3.11.4"
        },
        "orig_nbformat": 4
    },
    "nbformat": 4,
    "nbformat_minor": 2
}
